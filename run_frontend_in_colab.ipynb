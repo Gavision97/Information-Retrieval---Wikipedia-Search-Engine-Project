{
 "nbformat": 4,
 "nbformat_minor": 0,
 "metadata": {
  "colab": {
   "provenance": []
  },
  "kernelspec": {
   "name": "python3",
   "display_name": "Python 3"
  },
  "language_info": {
   "name": "python"
  }
 },
 "cells": [
  {
   "cell_type": "code",
   "source": [
    "# download nltk stopwords\n",
    "import nltk\n",
    "nltk.download('stopwords')"
   ],
   "metadata": {
    "id": "bCPDHP7zTQJZ",
    "colab": {
     "base_uri": "https://localhost:8080/"
    },
    "outputId": "44db8150-4436-428f-9758-47bca56583fa"
   },
   "execution_count": 1,
   "outputs": [
    {
     "output_type": "stream",
     "name": "stderr",
     "text": [
      "[nltk_data] Downloading package stopwords to /root/nltk_data...\n",
      "[nltk_data]   Unzipping corpora/stopwords.zip.\n"
     ]
    },
    {
     "output_type": "execute_result",
     "data": {
      "text/plain": [
       "True"
      ]
     },
     "metadata": {},
     "execution_count": 1
    }
   ]
  },
  {
   "cell_type": "code",
   "source": [
    "# Install a particular version of `google-cloud-storage` because (oddly enough)\n",
    "# the  version on Colab and GCP is old. A dependency error below is okay.\n",
    "!pip install -q google-cloud-storage==1.43.0"
   ],
   "metadata": {
    "id": "lAt6KT8xOgHH"
   },
   "execution_count": null,
   "outputs": []
  },
  {
   "cell_type": "code",
   "source": [
    "# authenticate below for Google Storage access as needed\n",
    "from google.colab import auth\n",
    "auth.authenticate_user()"
   ],
   "metadata": {
    "id": "-oKFly5jFLFn"
   },
   "execution_count": 1,
   "outputs": []
  },
  {
   "cell_type": "code",
   "source": [
    "!pip install pyngrok"
   ],
   "metadata": {
    "colab": {
     "base_uri": "https://localhost:8080/"
    },
    "id": "Aeoj64DuuGbx",
    "outputId": "92603471-d55c-42dc-d8d5-8a866a860417"
   },
   "execution_count": 4,
   "outputs": [
    {
     "output_type": "stream",
     "name": "stdout",
     "text": [
      "Collecting pyngrok\n",
      "  Downloading pyngrok-7.1.2-py3-none-any.whl (22 kB)\n",
      "Requirement already satisfied: PyYAML>=5.1 in /usr/local/lib/python3.10/dist-packages (from pyngrok) (6.0.1)\n",
      "Installing collected packages: pyngrok\n",
      "Successfully installed pyngrok-7.1.2\n"
     ]
    }
   ]
  },
  {
   "cell_type": "code",
   "source": [
    "# TODO: sign up for an ngrok account\n",
    "# then put your ngrok token below and execute\n",
    "from pyngrok import ngrok\n",
    "ngrok.set_auth_token(\"YOUR_NGROK_AUTHTOKEN_HERE\")"
   ],
   "metadata": {
    "colab": {
     "base_uri": "https://localhost:8080/"
    },
    "id": "3E0IJAHOuDG1",
    "outputId": "4d1f266d-ad95-4ab2-e26e-5c35eaf6b74a"
   },
   "execution_count": 5,
   "outputs": [
    {
     "output_type": "stream",
     "name": "stdout",
     "text": []
    }
   ]
  },
  {
   "cell_type": "markdown",
   "source": [
    "# Run the app"
   ],
   "metadata": {
    "id": "6dW0y91OVu5J"
   }
  },
  {
   "cell_type": "code",
   "source": [
    "# you need to upload your implementation of search_app.py\n",
    "import search_frontend as se"
   ],
   "metadata": {
    "id": "7opNkV6uRHIv"
   },
   "execution_count": 7,
   "outputs": []
  },
  {
   "cell_type": "code",
   "source": [
    "# uncomment the code below and execute to reload the module when you make\n",
    "# changes to search_frontend.py (after you upload again).\n",
    "# import importlib\n",
    "# importlib.reload(se)"
   ],
   "metadata": {
    "id": "oTGXXYEXV5l8"
   },
   "execution_count": null,
   "outputs": []
  },
  {
   "cell_type": "code",
   "source": [
    "public_url = ngrok.connect(\"5000\", bind_tls=False).public_url\n",
    "print(f\" * ngrok tunnel \\\"{public_url}\\\" -> \\\"http://127.0.0.1:5000\\\"\")\n",
    "# Update any base URLs to use the public ngrok URL\n",
    "se.app.config[\"BASE_URL\"] = public_url\n",
    "se.app.run()"
   ],
   "metadata": {
    "id": "J5n9u9rFP_wD",
    "colab": {
     "base_uri": "https://localhost:8080/"
    },
    "outputId": "fd10643a-6657-478e-dde8-4e4d1755c542"
   },
   "execution_count": 18,
   "outputs": [
    {
     "output_type": "stream",
     "name": "stdout",
     "text": [
      " * ngrok tunnel \"http://d116-34-80-115-88.ngrok-free.app\" -> \"http://127.0.0.1:5000\"\n",
      " * Serving Flask app 'search_frontend'\n",
      " * Debug mode: off\n"
     ]
    },
    {
     "output_type": "stream",
     "name": "stderr",
     "text": [
      "INFO:werkzeug:\u001B[31m\u001B[1mWARNING: This is a development server. Do not use it in a production deployment. Use a production WSGI server instead.\u001B[0m\n",
      " * Running on http://127.0.0.1:5000\n",
      "INFO:werkzeug:\u001B[33mPress CTRL+C to quit\u001B[0m\n",
      "INFO:werkzeug:127.0.0.1 - - [19/Feb/2024 00:52:56] \"\u001B[33mGET / HTTP/1.1\u001B[0m\" 404 -\n",
      "INFO:werkzeug:127.0.0.1 - - [19/Feb/2024 00:52:57] \"\u001B[33mGET /favicon.ico HTTP/1.1\u001B[0m\" 404 -\n",
      "INFO:werkzeug:127.0.0.1 - - [19/Feb/2024 00:53:03] \"GET /search HTTP/1.1\" 200 -\n"
     ]
    }
   ]
  },
  {
   "cell_type": "markdown",
   "source": [
    "# Testing your app\n",
    "\n",
    "Once your app is running you can query it. You can simply do that by navigating to the URL that ngrok gave you above or through code in a different python session. For example, once the frontend app is running, you can navigate to:\n",
    "http://YOUR_SERVER_DOMAIN/search?query=hello+world where YOUR_SERVER_DOMAIN is something like XXXX-XX-XX-XX-XX.ngrok.io, which is printed above in Colab or that is your external IP on GCP.\n",
    "\n",
    "The code below shows how to issue a query from python. This is also how our testing code will issue queries to your search engine, so make sure to test your search engine this way after you deploy it to GCP and before submission. Command line instructions for deploying your search engine to GCP are available at `run_frontend_in_gcp.sh`. Note that we will not only issue training queries to your search engine, but also test queries, i.e. queries that you've never seen before."
   ],
   "metadata": {
    "id": "Na0MC_1nzDbi"
   }
  },
  {
   "cell_type": "code",
   "source": [
    "import json\n",
    "\n",
    "with open('queries_train.json', 'rt') as f:\n",
    "  queries = json.load(f)"
   ],
   "metadata": {
    "id": "EM5ePrRHojbG"
   },
   "execution_count": 15,
   "outputs": []
  },
  {
   "cell_type": "code",
   "source": [
    "def average_precision(true_list, predicted_list, k=40):\n",
    "    true_set = frozenset(true_list)\n",
    "    predicted_list = predicted_list[:k]\n",
    "    precisions = []\n",
    "    for i,doc_id in enumerate(predicted_list):\n",
    "        if doc_id in true_set:\n",
    "            prec = (len(precisions)+1) / (i+1)\n",
    "            precisions.append(prec)\n",
    "    if len(precisions) == 0:\n",
    "        return 0.0\n",
    "    return round(sum(precisions)/len(precisions),3)"
   ],
   "metadata": {
    "id": "gWimZWCOy3Ei"
   },
   "execution_count": 16,
   "outputs": []
  },
  {
   "cell_type": "code",
   "source": [
    "def precision_at_k(true_list, predicted_list, k):\n",
    "    true_set = frozenset(true_list)\n",
    "    predicted_list = predicted_list[:k]\n",
    "    if len(predicted_list) == 0:\n",
    "        return 0.0\n",
    "    return round(len([1 for doc_id in predicted_list if doc_id in true_set]) / len(predicted_list), 3)\n",
    "def recall_at_k(true_list, predicted_list, k):\n",
    "    true_set = frozenset(true_list)\n",
    "    predicted_list = predicted_list[:k]\n",
    "    if len(true_set) < 1:\n",
    "        return 1.0\n",
    "    return round(len([1 for doc_id in predicted_list if doc_id in true_set]) / len(true_set), 3)\n",
    "def f1_at_k(true_list, predicted_list, k):\n",
    "    p = precision_at_k(true_list, predicted_list, k)\n",
    "    r = recall_at_k(true_list, predicted_list, k)\n",
    "    if p == 0.0 or r == 0.0:\n",
    "        return 0.0\n",
    "    return round(2.0 / (1.0/p + 1.0/r), 3)\n",
    "def results_quality(true_list, predicted_list):\n",
    "    p5 = precision_at_k(true_list, predicted_list, 5)\n",
    "    f1_30 = f1_at_k(true_list, predicted_list, 30)\n",
    "    if p5 == 0.0 or f1_30 == 0.0:\n",
    "        return 0.0\n",
    "    return round(2.0 / (1.0/p5 + 1.0/f1_30), 3)\n",
    "\n",
    "assert precision_at_k(range(10), [1,2,3] , 2) == 1.0\n",
    "assert recall_at_k(   range(10), [10,5,3], 2) == 0.1\n",
    "assert precision_at_k(range(10), []      , 2) == 0.0\n",
    "assert precision_at_k([],        [1,2,3],  5) == 0.0\n",
    "assert recall_at_k(   [],        [10,5,3], 2) == 1.0\n",
    "assert recall_at_k(   range(10), [],       2) == 0.0\n",
    "assert f1_at_k(       [],        [1,2,3],  5) == 0.0\n",
    "assert f1_at_k(       range(10), [],       2) == 0.0\n",
    "assert f1_at_k(       range(10), [0,1,2],  2) == 0.333\n",
    "assert f1_at_k(       range(50), range(5), 30) == 0.182\n",
    "assert f1_at_k(       range(50), range(10), 30) == 0.333\n",
    "assert f1_at_k(       range(50), range(30), 30) == 0.75\n",
    "assert results_quality(range(50), range(5))  == 0.308\n",
    "assert results_quality(range(50), range(10)) == 0.5\n",
    "assert results_quality(range(50), range(30)) == 0.857\n",
    "assert results_quality(range(50), [-1]*5 + list(range(5,30))) == 0.0\n"
   ],
   "metadata": {
    "id": "geHKyFB4xkBe"
   },
   "execution_count": 17,
   "outputs": []
  },
  {
   "cell_type": "code",
   "source": [
    "import requests\n",
    "from time import time\n",
    "# url = 'http://35.232.59.3:8080'\n",
    "# place the domain you got from ngrok or GCP IP below.\n",
    "url = 'http://XXXX-XX-XX-XX-XX.ngrok.io'\n",
    "\n",
    "qs_res = []\n",
    "for q, true_wids in queries.items():\n",
    "  duration, ap = None, None\n",
    "  t_start = time()\n",
    "  try:\n",
    "    res = requests.get(url + '/search', {'query': q}, timeout=35)\n",
    "    duration = time() - t_start\n",
    "    if res.status_code == 200:\n",
    "      pred_wids, _ = zip(*res.json())\n",
    "      rq = results_quality(true_wids, pred_wids)\n",
    "  except:\n",
    "    pass\n",
    "\n",
    "  qs_res.append((q, duration, rq))"
   ],
   "metadata": {
    "id": "dYmNTq9u0ChK"
   },
   "execution_count": null,
   "outputs": []
  }
 ]
}
